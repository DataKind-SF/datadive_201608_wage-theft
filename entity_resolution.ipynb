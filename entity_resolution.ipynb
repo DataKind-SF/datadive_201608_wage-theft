{
 "cells": [
  {
   "cell_type": "markdown",
   "metadata": {},
   "source": [
    "Entity resolution and data modeling\n",
    "-----"
   ]
  },
  {
   "cell_type": "code",
   "execution_count": 166,
   "metadata": {
    "collapsed": true
   },
   "outputs": [],
   "source": [
    "reset -fs"
   ]
  },
  {
   "cell_type": "code",
   "execution_count": 167,
   "metadata": {
    "collapsed": false
   },
   "outputs": [],
   "source": [
    "from collections import defaultdict, Counter\n",
    "\n",
    "from fuzzywuzzy import fuzz\n",
    "import pandas as pd"
   ]
  },
  {
   "cell_type": "code",
   "execution_count": 168,
   "metadata": {
    "collapsed": false
   },
   "outputs": [
    {
     "name": "stderr",
     "output_type": "stream",
     "text": [
      "/Users/brian/anaconda/envs/py3_dl/lib/python3.5/site-packages/IPython/core/interactiveshell.py:2705: DtypeWarning: Columns (7) have mixed types. Specify dtype option on import or set low_memory=False.\n",
      "  interactivity=interactivity, compiler=compiler, result=result)\n"
     ]
    }
   ],
   "source": [
    "# Load data \n",
    "path = \"./data/\"\n",
    "filename = \"whd_whisard.csv\"\n",
    "\n",
    "try:\n",
    "    df_raw = pd.read_csv(path+filename)\n",
    "except OSError:\n",
    "    import zipfile\n",
    "    with zipfile.ZipFile(path+\"whd_whisard_20160611.csv.zip\", \"r\") as zf:\n",
    "        zf.extractall(path)\n",
    "    df_raw = pd.read_csv(path+filename)\n",
    "\n",
    "names_raw = df_raw.trade_nm.values  # 2 options for names: trade_nm or legal_name"
   ]
  },
  {
   "cell_type": "code",
   "execution_count": 169,
   "metadata": {
    "collapsed": false
   },
   "outputs": [
    {
     "data": {
      "text/html": [
       "<div>\n",
       "<table border=\"1\" class=\"dataframe\">\n",
       "  <thead>\n",
       "    <tr style=\"text-align: right;\">\n",
       "      <th></th>\n",
       "      <th>case_id</th>\n",
       "      <th>trade_nm</th>\n",
       "      <th>legal_name</th>\n",
       "      <th>street_addr_1_txt</th>\n",
       "      <th>cty_nm</th>\n",
       "      <th>st_cd</th>\n",
       "      <th>zip_cd</th>\n",
       "      <th>naic_cd</th>\n",
       "      <th>naics_code_description</th>\n",
       "      <th>case_violtn_cnt</th>\n",
       "      <th>...</th>\n",
       "      <th>flsa_smwsl_bw_atp_amt</th>\n",
       "      <th>flsa_smwsl_ee_atp_cnt</th>\n",
       "      <th>eev_violtn_cnt</th>\n",
       "      <th>h2b_violtn_cnt</th>\n",
       "      <th>h2b_bw_atp_amt</th>\n",
       "      <th>h2b_ee_atp_cnt</th>\n",
       "      <th>sraw_violtn_cnt</th>\n",
       "      <th>sraw_bw_atp_amt</th>\n",
       "      <th>sraw_ee_atp_cnt</th>\n",
       "      <th>ld_dt</th>\n",
       "    </tr>\n",
       "  </thead>\n",
       "  <tbody>\n",
       "    <tr>\n",
       "      <th>0</th>\n",
       "      <td>1513023</td>\n",
       "      <td>Anid Care Home</td>\n",
       "      <td>Anid Care Home, Inc.</td>\n",
       "      <td>408 Hill Street</td>\n",
       "      <td>Ionia</td>\n",
       "      <td>MI</td>\n",
       "      <td>48846.0</td>\n",
       "      <td>623990</td>\n",
       "      <td>Other Residential Care Facilities</td>\n",
       "      <td>3</td>\n",
       "      <td>...</td>\n",
       "      <td>0.0</td>\n",
       "      <td>0</td>\n",
       "      <td>0</td>\n",
       "      <td>0</td>\n",
       "      <td>0.0</td>\n",
       "      <td>0</td>\n",
       "      <td>0</td>\n",
       "      <td>0.0</td>\n",
       "      <td>0</td>\n",
       "      <td>2015-02-20 01:00:06.112241</td>\n",
       "    </tr>\n",
       "  </tbody>\n",
       "</table>\n",
       "<p>1 rows × 110 columns</p>\n",
       "</div>"
      ],
      "text/plain": [
       "   case_id        trade_nm            legal_name street_addr_1_txt cty_nm  \\\n",
       "0  1513023  Anid Care Home  Anid Care Home, Inc.   408 Hill Street  Ionia   \n",
       "\n",
       "  st_cd   zip_cd naic_cd             naics_code_description  case_violtn_cnt  \\\n",
       "0    MI  48846.0  623990  Other Residential Care Facilities                3   \n",
       "\n",
       "              ...              flsa_smwsl_bw_atp_amt  flsa_smwsl_ee_atp_cnt  \\\n",
       "0             ...                                0.0                      0   \n",
       "\n",
       "   eev_violtn_cnt  h2b_violtn_cnt h2b_bw_atp_amt h2b_ee_atp_cnt  \\\n",
       "0               0               0            0.0              0   \n",
       "\n",
       "   sraw_violtn_cnt sraw_bw_atp_amt  sraw_ee_atp_cnt  \\\n",
       "0                0             0.0                0   \n",
       "\n",
       "                        ld_dt  \n",
       "0  2015-02-20 01:00:06.112241  \n",
       "\n",
       "[1 rows x 110 columns]"
      ]
     },
     "execution_count": 169,
     "metadata": {},
     "output_type": "execute_result"
    }
   ],
   "source": [
    "df_raw.head(1)"
   ]
  },
  {
   "cell_type": "code",
   "execution_count": 170,
   "metadata": {
    "collapsed": false
   },
   "outputs": [],
   "source": [
    "def normalize_name(name_raw):\n",
    "    \"Given entity name from data, return clean (semi-normalized) name for entity matching\"\n",
    "    name_normalized = name_raw.strip().lower()\n",
    "    return name_normalized\n",
    "\n",
    "def check_entity(entities, name):\n",
    "    \"Look for fuzzy name matching in entities\"\n",
    "    if not name in nonentities:\n",
    "        return name\n",
    "    else:\n",
    "        return \"NOT VALID ENTITY: \"+name"
   ]
  },
  {
   "cell_type": "code",
   "execution_count": 177,
   "metadata": {
    "collapsed": false
   },
   "outputs": [],
   "source": [
    "# entities = {entity_id: {alais_1, alais_2}}\n",
    "entities = defaultdict(default_factory=set) \n",
    "entities = {-1: {'07-Jan'}, # Nonentities\n",
    "            1001: {'Acme Corp', \"Blow stuff up, Inc\"},\n",
    "            1002: {\"McDonald's\", 'McDonalds'},\n",
    "            1003: {\"USPS\", 'United States Postal Service', 'US Postal Service', 'U.S. Postal Service'},\n",
    "            1004: {'Super 8', 'Super 8 Motel'},\n",
    "            1005: {\"KFC\", \"Kentucky Fried Chicken\"}} \n",
    "\n",
    "ratio_threshold = 90\n",
    "assert fuzz.token_sort_ratio(\"McDonald's\", 'McDonalds') > ratio_threshold"
   ]
  },
  {
   "cell_type": "code",
   "execution_count": 178,
   "metadata": {
    "collapsed": false
   },
   "outputs": [
    {
     "data": {
      "text/plain": [
       "[('Subway', 932),\n",
       " ('Dunkin Donuts', 338),\n",
       " (\"McDonald's\", 290),\n",
       " ('Holiday Inn Express', 214),\n",
       " ('Days Inn', 208),\n",
       " ('McDonalds', 197),\n",
       " ('USPS', 186),\n",
       " ('Burger King', 171),\n",
       " ('United States Postal Service', 170),\n",
       " ('Dairy Queen', 163)]"
      ]
     },
     "execution_count": 178,
     "metadata": {},
     "output_type": "execute_result"
    }
   ],
   "source": [
    "Counter(names_raw).most_common()[:10]"
   ]
  },
  {
   "cell_type": "code",
   "execution_count": 195,
   "metadata": {
    "collapsed": false
   },
   "outputs": [
    {
     "ename": "KeyError",
     "evalue": "1059",
     "output_type": "error",
     "traceback": [
      "\u001b[0;31m---------------------------------------------------------------------------\u001b[0m",
      "\u001b[0;31mStopIteration\u001b[0m                             Traceback (most recent call last)",
      "\u001b[0;32m<ipython-input-195-7030903fa2be>\u001b[0m in \u001b[0;36m<module>\u001b[0;34m()\u001b[0m\n\u001b[1;32m      6\u001b[0m     \u001b[0;32mtry\u001b[0m\u001b[0;34m:\u001b[0m\u001b[0;34m\u001b[0m\u001b[0m\n\u001b[0;32m----> 7\u001b[0;31m         entityid = next(k for k,alaises in entities.items() \n\u001b[0m\u001b[1;32m      8\u001b[0m                             for entity in alaises if fuzz.token_sort_ratio(name, entity) > ratio_threshold)\n",
      "\u001b[0;31mStopIteration\u001b[0m: ",
      "\nDuring handling of the above exception, another exception occurred:\n",
      "\u001b[0;31mKeyError\u001b[0m                                  Traceback (most recent call last)",
      "\u001b[0;32m<ipython-input-195-7030903fa2be>\u001b[0m in \u001b[0;36m<module>\u001b[0;34m()\u001b[0m\n\u001b[1;32m      9\u001b[0m     \u001b[0;32mexcept\u001b[0m \u001b[0mStopIteration\u001b[0m\u001b[0;34m:\u001b[0m \u001b[0;31m# If entity is not in alias, add\u001b[0m\u001b[0;34m\u001b[0m\u001b[0m\n\u001b[1;32m     10\u001b[0m         \u001b[0mentityid\u001b[0m \u001b[0;34m=\u001b[0m \u001b[0mmax\u001b[0m\u001b[0;34m(\u001b[0m\u001b[0mentities\u001b[0m\u001b[0;34m.\u001b[0m\u001b[0mkeys\u001b[0m\u001b[0;34m(\u001b[0m\u001b[0;34m)\u001b[0m\u001b[0;34m)\u001b[0m\u001b[0;34m+\u001b[0m\u001b[0;36m1\u001b[0m\u001b[0;34m\u001b[0m\u001b[0m\n\u001b[0;32m---> 11\u001b[0;31m         \u001b[0mentities\u001b[0m\u001b[0;34m[\u001b[0m\u001b[0mentityid\u001b[0m\u001b[0;34m]\u001b[0m\u001b[0;34m.\u001b[0m\u001b[0madd\u001b[0m\u001b[0;34m(\u001b[0m\u001b[0mname\u001b[0m\u001b[0;34m)\u001b[0m\u001b[0;34m\u001b[0m\u001b[0m\n\u001b[0m\u001b[1;32m     12\u001b[0m     \u001b[0mentityid_name_check\u001b[0m\u001b[0;34m.\u001b[0m\u001b[0mappend\u001b[0m\u001b[0;34m(\u001b[0m\u001b[0;34m(\u001b[0m\u001b[0mentityid\u001b[0m\u001b[0;34m,\u001b[0m \u001b[0mname\u001b[0m\u001b[0;34m)\u001b[0m\u001b[0;34m)\u001b[0m\u001b[0;34m\u001b[0m\u001b[0m\n",
      "\u001b[0;31mKeyError\u001b[0m: 1059"
     ]
    }
   ],
   "source": [
    "# Fuzzy check and add\n",
    "\n",
    "entityid_name_check = []\n",
    "\n",
    "for name in names_raw[:16]:\n",
    "    try: \n",
    "        entityid = next(k for k,alaises in entities.items() \n",
    "                            for entity in alaises if fuzz.token_sort_ratio(name, entity) > ratio_threshold)\n",
    "    except StopIteration: # If entity is not in alias, add\n",
    "        entityid = max(entities.keys())+1\n",
    "        entities[entityid].add(name)\n",
    "    entityid_name_check.append((entityid, name))"
   ]
  },
  {
   "cell_type": "code",
   "execution_count": 192,
   "metadata": {
    "collapsed": false
   },
   "outputs": [
    {
     "data": {
      "text/plain": [
       "[(1044, 'Anid Care Home'),\n",
       " (1045, 'Eye Land Vision'),\n",
       " (1046, 'Bella Vita School (The)'),\n",
       " (1047, 'Salvadeos'),\n",
       " (1048, 'Richard T. Hite Farms'),\n",
       " (1049, 'William Avery'),\n",
       " (1050, 'Kahn Grove Service Co.'),\n",
       " (1051, 'Clark Security'),\n",
       " (1003, 'U.S. Postal Service'),\n",
       " (1052, 'G & G Farms, AGER'),\n",
       " (1053, \"Francesca's\"),\n",
       " (1054, 'Wal Mart'),\n",
       " (1055, 'Wal-Mart'),\n",
       " (1056, 'Alan Markum Training Center'),\n",
       " (1057, 'Bonner Springs Thriftway'),\n",
       " (1058, 'NY Invasion')]"
      ]
     },
     "execution_count": 192,
     "metadata": {},
     "output_type": "execute_result"
    }
   ],
   "source": [
    "entityid_name_check"
   ]
  },
  {
   "cell_type": "code",
   "execution_count": 190,
   "metadata": {
    "collapsed": false
   },
   "outputs": [
    {
     "data": {
      "text/plain": [
       "100"
      ]
     },
     "execution_count": 190,
     "metadata": {},
     "output_type": "execute_result"
    }
   ],
   "source": [
    "fuzz.token_sort_ratio('Wal Mart', 'Wal-Mart')"
   ]
  },
  {
   "cell_type": "code",
   "execution_count": 193,
   "metadata": {
    "collapsed": false
   },
   "outputs": [
    {
     "data": {
      "text/plain": [
       "{-1: {'07-Jan'},\n",
       " 1001: {'Acme Corp', 'Blow stuff up, Inc'},\n",
       " 1002: {\"McDonald's\", 'McDonalds'},\n",
       " 1003: {'U.S. Postal Service',\n",
       "  'US Postal Service',\n",
       "  'USPS',\n",
       "  'United States Postal Service'},\n",
       " 1004: {'Super 8', 'Super 8 Motel'},\n",
       " 1005: {'KFC', 'Kentucky Fried Chicken'},\n",
       " 1006: 'Anid Care Home',\n",
       " 1007: 'Eye Land Vision',\n",
       " 1008: 'Bella Vita School (The)',\n",
       " 1009: 'Salvadeos',\n",
       " 1010: 'Richard T. Hite Farms',\n",
       " 1011: 'William Avery',\n",
       " 1012: 'Kahn Grove Service Co.',\n",
       " 1013: 'Clark Security',\n",
       " 1014: 'U.S. Postal Service',\n",
       " 1015: 'G & G Farms, AGER',\n",
       " 1016: 'Anid Care Home',\n",
       " 1017: 'Eye Land Vision',\n",
       " 1018: 'Bella Vita School (The)',\n",
       " 1019: 'Salvadeos',\n",
       " 1020: 'Richard T. Hite Farms',\n",
       " 1021: 'William Avery',\n",
       " 1022: 'Kahn Grove Service Co.',\n",
       " 1023: 'Clark Security',\n",
       " 1024: 'G & G Farms, AGER',\n",
       " 1025: 'Anid Care Home',\n",
       " 1026: 'Eye Land Vision',\n",
       " 1027: 'Bella Vita School (The)',\n",
       " 1028: 'Salvadeos',\n",
       " 1029: 'Richard T. Hite Farms',\n",
       " 1030: 'William Avery',\n",
       " 1031: 'Kahn Grove Service Co.',\n",
       " 1032: 'Clark Security',\n",
       " 1033: 'G & G Farms, AGER',\n",
       " 1034: \"Francesca's\",\n",
       " 1035: 'Wal Mart',\n",
       " 1036: 'Wal-Mart',\n",
       " 1037: 'Alan Markum Training Center',\n",
       " 1038: 'Bonner Springs Thriftway',\n",
       " 1039: 'NY Invasion',\n",
       " 1040: 'BP & SC',\n",
       " 1041: \"Imo's\",\n",
       " 1042: 'Iron Tree Trucking',\n",
       " 1043: 'Paris Plaza 66',\n",
       " 1044: 'Anid Care Home',\n",
       " 1045: 'Eye Land Vision',\n",
       " 1046: 'Bella Vita School (The)',\n",
       " 1047: 'Salvadeos',\n",
       " 1048: 'Richard T. Hite Farms',\n",
       " 1049: 'William Avery',\n",
       " 1050: 'Kahn Grove Service Co.',\n",
       " 1051: 'Clark Security',\n",
       " 1052: 'G & G Farms, AGER',\n",
       " 1053: \"Francesca's\",\n",
       " 1054: 'Wal Mart',\n",
       " 1055: 'Wal-Mart',\n",
       " 1056: 'Alan Markum Training Center',\n",
       " 1057: 'Bonner Springs Thriftway',\n",
       " 1058: 'NY Invasion'}"
      ]
     },
     "execution_count": 193,
     "metadata": {},
     "output_type": "execute_result"
    }
   ],
   "source": [
    "entities"
   ]
  },
  {
   "cell_type": "code",
   "execution_count": null,
   "metadata": {
    "collapsed": true
   },
   "outputs": [],
   "source": []
  },
  {
   "cell_type": "code",
   "execution_count": 173,
   "metadata": {
    "collapsed": false
   },
   "outputs": [
    {
     "ename": "NameError",
     "evalue": "name 'name' is not defined",
     "output_type": "error",
     "traceback": [
      "\u001b[0;31m---------------------------------------------------------------------------\u001b[0m",
      "\u001b[0;31mNameError\u001b[0m                                 Traceback (most recent call last)",
      "\u001b[0;32m<ipython-input-173-beb34e59e2e7>\u001b[0m in \u001b[0;36m<module>\u001b[0;34m()\u001b[0m\n\u001b[1;32m      1\u001b[0m \u001b[0;31m# Deterministic check and add\u001b[0m\u001b[0;34m\u001b[0m\u001b[0;34m\u001b[0m\u001b[0m\n\u001b[0;32m----> 2\u001b[0;31m \u001b[0;32mif\u001b[0m \u001b[0;32mnot\u001b[0m \u001b[0;34m[\u001b[0m\u001b[0mk\u001b[0m \u001b[0;32mfor\u001b[0m \u001b[0mk\u001b[0m\u001b[0;34m,\u001b[0m\u001b[0mv\u001b[0m \u001b[0;32min\u001b[0m \u001b[0mentities\u001b[0m\u001b[0;34m.\u001b[0m\u001b[0mitems\u001b[0m\u001b[0;34m(\u001b[0m\u001b[0;34m)\u001b[0m \u001b[0;32mif\u001b[0m \u001b[0mname\u001b[0m \u001b[0;32min\u001b[0m \u001b[0mv\u001b[0m\u001b[0;34m]\u001b[0m\u001b[0;34m:\u001b[0m \u001b[0;31m# If entity is not in alias, add\u001b[0m\u001b[0;34m\u001b[0m\u001b[0m\n\u001b[0m\u001b[1;32m      3\u001b[0m         \u001b[0mentities\u001b[0m\u001b[0;34m[\u001b[0m\u001b[0mmax\u001b[0m\u001b[0;34m(\u001b[0m\u001b[0mentities\u001b[0m\u001b[0;34m.\u001b[0m\u001b[0mkeys\u001b[0m\u001b[0;34m(\u001b[0m\u001b[0;34m)\u001b[0m\u001b[0;34m)\u001b[0m\u001b[0;34m+\u001b[0m\u001b[0;36m1\u001b[0m\u001b[0;34m]\u001b[0m \u001b[0;34m=\u001b[0m \u001b[0mname\u001b[0m\u001b[0;34m\u001b[0m\u001b[0m\n",
      "\u001b[0;32m<ipython-input-173-beb34e59e2e7>\u001b[0m in \u001b[0;36m<listcomp>\u001b[0;34m(.0)\u001b[0m\n\u001b[1;32m      1\u001b[0m \u001b[0;31m# Deterministic check and add\u001b[0m\u001b[0;34m\u001b[0m\u001b[0;34m\u001b[0m\u001b[0m\n\u001b[0;32m----> 2\u001b[0;31m \u001b[0;32mif\u001b[0m \u001b[0;32mnot\u001b[0m \u001b[0;34m[\u001b[0m\u001b[0mk\u001b[0m \u001b[0;32mfor\u001b[0m \u001b[0mk\u001b[0m\u001b[0;34m,\u001b[0m\u001b[0mv\u001b[0m \u001b[0;32min\u001b[0m \u001b[0mentities\u001b[0m\u001b[0;34m.\u001b[0m\u001b[0mitems\u001b[0m\u001b[0;34m(\u001b[0m\u001b[0;34m)\u001b[0m \u001b[0;32mif\u001b[0m \u001b[0mname\u001b[0m \u001b[0;32min\u001b[0m \u001b[0mv\u001b[0m\u001b[0;34m]\u001b[0m\u001b[0;34m:\u001b[0m \u001b[0;31m# If entity is not in alias, add\u001b[0m\u001b[0;34m\u001b[0m\u001b[0m\n\u001b[0m\u001b[1;32m      3\u001b[0m         \u001b[0mentities\u001b[0m\u001b[0;34m[\u001b[0m\u001b[0mmax\u001b[0m\u001b[0;34m(\u001b[0m\u001b[0mentities\u001b[0m\u001b[0;34m.\u001b[0m\u001b[0mkeys\u001b[0m\u001b[0;34m(\u001b[0m\u001b[0;34m)\u001b[0m\u001b[0;34m)\u001b[0m\u001b[0;34m+\u001b[0m\u001b[0;36m1\u001b[0m\u001b[0;34m]\u001b[0m \u001b[0;34m=\u001b[0m \u001b[0mname\u001b[0m\u001b[0;34m\u001b[0m\u001b[0m\n",
      "\u001b[0;31mNameError\u001b[0m: name 'name' is not defined"
     ]
    }
   ],
   "source": [
    "# Deterministic check and add\n",
    "for name in names_raw[:10]:\n",
    "    if not [k for k,v in entities.items() if name in v]: # If entity is not in alias, add\n",
    "            entities[max(entities.keys())+1] = name"
   ]
  },
  {
   "cell_type": "code",
   "execution_count": null,
   "metadata": {
    "collapsed": true
   },
   "outputs": [],
   "source": []
  }
 ],
 "metadata": {
  "anaconda-cloud": {},
  "kernelspec": {
   "display_name": "Python [py3_dl]",
   "language": "python",
   "name": "Python [py3_dl]"
  },
  "language_info": {
   "codemirror_mode": {
    "name": "ipython",
    "version": 3
   },
   "file_extension": ".py",
   "mimetype": "text/x-python",
   "name": "python",
   "nbconvert_exporter": "python",
   "pygments_lexer": "ipython3",
   "version": "3.5.2"
  }
 },
 "nbformat": 4,
 "nbformat_minor": 0
}
